{
 "cells": [
  {
   "cell_type": "code",
   "execution_count": 1,
   "metadata": {},
   "outputs": [
    {
     "name": "stdout",
     "output_type": "stream",
     "text": [
      "Adicionado a lista:\n",
      " ['abacaxi', 'banana', 'maracuja', 'melao', 'ro', 'uva']\n"
     ]
    }
   ],
   "source": [
    "fruta_set = {'abacaxi', 'banana', 'maracuja', 'uva', 'melao'}\n",
    "fruta2 = input('Digite uma fruta: ')\n",
    "\n",
    "if (fruta2 in fruta_set) == True:\n",
    "    print('Está na lista')\n",
    "else:\n",
    "    fruta_set.add(fruta2)\n",
    "    print(\"Adicionado a lista:\\n\", sorted(fruta_set))\n"
   ]
  }
 ],
 "metadata": {
  "kernelspec": {
   "display_name": "Python 3",
   "language": "python",
   "name": "python3"
  },
  "language_info": {
   "codemirror_mode": {
    "name": "ipython",
    "version": 3
   },
   "file_extension": ".py",
   "mimetype": "text/x-python",
   "name": "python",
   "nbconvert_exporter": "python",
   "pygments_lexer": "ipython3",
   "version": "3.12.1"
  }
 },
 "nbformat": 4,
 "nbformat_minor": 2
}
