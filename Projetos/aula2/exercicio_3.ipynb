{
 "cells": [
  {
   "cell_type": "code",
   "execution_count": 11,
   "metadata": {},
   "outputs": [
    {
     "name": "stdout",
     "output_type": "stream",
     "text": [
      "Tamanho da frase digitada:  1\n",
      "Tamanho da lista de vogais:  10\n",
      "['*l*, t*d* b*m, c*m, v*c*']\n"
     ]
    }
   ],
   "source": [
    "list_frase = [input(\"Digite uma frase \\n\")]\n",
    "list = [\"a\", \"e\", \"i\", \"o\", \"u\", \"A\", \"E\", \"I\", \"O\", \"U\"]\n",
    "\n",
    "print(\"Tamanho da frase digitada: \", len(list_frase))\n",
    "print(\"Tamanho da lista de vogais: \", len(list))\n",
    "\n",
    "for i in range(len(list_frase)):\n",
    "    for j in range(len(list)):\n",
    "        list_frase[i] = list_frase[i].replace(list[j], \"*\")\n",
    "\n",
    "print(list_frase)"
   ]
  }
 ],
 "metadata": {
  "kernelspec": {
   "display_name": "Python 3",
   "language": "python",
   "name": "python3"
  },
  "language_info": {
   "codemirror_mode": {
    "name": "ipython",
    "version": 3
   },
   "file_extension": ".py",
   "mimetype": "text/x-python",
   "name": "python",
   "nbconvert_exporter": "python",
   "pygments_lexer": "ipython3",
   "version": "3.12.1"
  }
 },
 "nbformat": 4,
 "nbformat_minor": 2
}
