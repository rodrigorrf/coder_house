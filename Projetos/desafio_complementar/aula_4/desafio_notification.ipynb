{
 "cells": [
  {
   "cell_type": "markdown",
   "metadata": {},
   "source": [
    "# Desafio Aula 4"
   ]
  },
  {
   "cell_type": "code",
   "execution_count": 33,
   "metadata": {},
   "outputs": [],
   "source": [
    "from plyer import notification\n",
    "from datetime import datetime\n",
    "\n",
    "def alerta(nivel, base, etapa):\n",
    "    if nivel == 1:\n",
    "        alarme = \"ATENÇÃO: Alerta Baixo\"\n",
    "    elif nivel == 2:\n",
    "        alarme = \"ATENÇÃO: Alerta Medio\"\n",
    "    elif nivel == 3:\n",
    "        alarme = \"ATENÇÃO: Alerta Alto\"\n",
    "\n",
    "    falha = (f\"Falha no carregamento da base {base} na etapa {etapa}. \\n {datetime.today()}\")\n",
    "\n",
    "    notification.notify(\n",
    "            title = alarme,\n",
    "            message = falha,\n",
    "            #timeout = \n",
    "            )\n",
    "    \n",
    "\n",
    "alerta(2,\"CLIENTES\",\"EXTRAÇÂO\")"
   ]
  }
 ],
 "metadata": {
  "kernelspec": {
   "display_name": "Python 3",
   "language": "python",
   "name": "python3"
  },
  "language_info": {
   "codemirror_mode": {
    "name": "ipython",
    "version": 3
   },
   "file_extension": ".py",
   "mimetype": "text/x-python",
   "name": "python",
   "nbconvert_exporter": "python",
   "pygments_lexer": "ipython3",
   "version": "3.12.1"
  }
 },
 "nbformat": 4,
 "nbformat_minor": 2
}
