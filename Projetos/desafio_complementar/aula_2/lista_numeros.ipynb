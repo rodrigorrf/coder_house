{
 "cells": [
  {
   "cell_type": "code",
   "execution_count": 2,
   "metadata": {},
   "outputs": [
    {
     "name": "stdout",
     "output_type": "stream",
     "text": [
      "Lista digitada:  [1, 2, 3, 4, 5]\n"
     ]
    }
   ],
   "source": [
    "list = []\n",
    "i=0\n",
    "\n",
    "while i < 5:\n",
    "    valida_num = int(input(\"Digite um numero inteiro\"))\n",
    "    list.append(valida_num)\n",
    "    i = i+1\n",
    "\n",
    "print(\"Lista digitada: \", list)"
   ]
  }
 ],
 "metadata": {
  "kernelspec": {
   "display_name": "Python 3",
   "language": "python",
   "name": "python3"
  },
  "language_info": {
   "codemirror_mode": {
    "name": "ipython",
    "version": 3
   },
   "file_extension": ".py",
   "mimetype": "text/x-python",
   "name": "python",
   "nbconvert_exporter": "python",
   "pygments_lexer": "ipython3",
   "version": "3.12.1"
  }
 },
 "nbformat": 4,
 "nbformat_minor": 2
}
