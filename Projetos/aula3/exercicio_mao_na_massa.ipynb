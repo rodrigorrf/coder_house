{
 "cells": [
  {
   "cell_type": "markdown",
   "metadata": {},
   "source": [
    "# Exercicios Aula "
   ]
  },
  {
   "cell_type": "code",
   "execution_count": null,
   "metadata": {},
   "outputs": [],
   "source": [
    "num = int(input(\"Digite um numero inteiro: \"))\n",
    "\n",
    "if num % 2 == 0:\n",
    "    print(\"Numero par\")\n",
    "else:\n",
    "    print(\"Numero impar\")"
   ]
  },
  {
   "cell_type": "code",
   "execution_count": 29,
   "metadata": {},
   "outputs": [
    {
     "name": "stdout",
     "output_type": "stream",
     "text": [
      "rodrigo 7\n",
      "roberto 7\n"
     ]
    }
   ],
   "source": [
    "frase = input(\"Digite uma frase\")\n",
    "palavras = frase.split()\n",
    "\n",
    "for i in palavras:\n",
    "   tamanho = len(i)\n",
    "   print(i,tamanho)"
   ]
  },
  {
   "cell_type": "code",
   "execution_count": 31,
   "metadata": {},
   "outputs": [
    {
     "name": "stdout",
     "output_type": "stream",
     "text": [
      "Senha incorreta!!!\n",
      "Acesso autorizado\n"
     ]
    }
   ],
   "source": [
    "senha = int(input(\"Digite a senha de 4 digitos: \"))\n",
    "\n",
    "while senha != 1234:\n",
    "    print(\"Senha incorreta!!!\")\n",
    "    senha = int(input(\"Digite a senha novamente, senha de 4 digitos: \"))    \n",
    "print(\"Acesso autorizado\")"
   ]
  },
  {
   "cell_type": "code",
   "execution_count": 38,
   "metadata": {},
   "outputs": [
    {
     "name": "stdout",
     "output_type": "stream",
     "text": [
      "1 1\n",
      "2 2\n",
      "6 3\n",
      "24 4\n",
      "120 5\n",
      "Fatorial de:  5 é 120\n"
     ]
    }
   ],
   "source": [
    "num = int(input(\"Digite um numero maior que 0\"))\n",
    "fatorial = 1\n",
    "\n",
    "for i in  range(1, num + 1):\n",
    "    #print(i)\n",
    "    fatorial *= i \n",
    "    print(fatorial,i) \n",
    "\n",
    "print(\"Fatorial de: \", num, \"é\", fatorial)"
   ]
  },
  {
   "cell_type": "code",
   "execution_count": 48,
   "metadata": {},
   "outputs": [
    {
     "name": "stdout",
     "output_type": "stream",
     "text": [
      "MÊS      Quantidade\n",
      "Janeiro       232\n",
      "Fevereiro       321\n",
      "Junho       589\n",
      "Julho       547\n"
     ]
    }
   ],
   "source": [
    "dicionario = {\"Janeiro\": 232, \"Fevereiro\" : 321, \"Junho\" : 589, \"Julho\" : 547}\n",
    "\n",
    "# k=key e v=value\n",
    "print(\"MÊS\", \"     Quantidade\")\n",
    "for k,v in dicionario.items(): \n",
    "    print(k,\"     \",v)\n"
   ]
  }
 ],
 "metadata": {
  "kernelspec": {
   "display_name": "Python 3",
   "language": "python",
   "name": "python3"
  },
  "language_info": {
   "codemirror_mode": {
    "name": "ipython",
    "version": 3
   },
   "file_extension": ".py",
   "mimetype": "text/x-python",
   "name": "python",
   "nbconvert_exporter": "python",
   "pygments_lexer": "ipython3",
   "version": "3.12.1"
  }
 },
 "nbformat": 4,
 "nbformat_minor": 2
}
