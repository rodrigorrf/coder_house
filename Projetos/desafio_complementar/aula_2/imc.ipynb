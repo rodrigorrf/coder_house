{
 "cells": [
  {
   "cell_type": "code",
   "execution_count": 2,
   "metadata": {},
   "outputs": [
    {
     "name": "stdout",
     "output_type": "stream",
     "text": [
      "\n",
      "Seu imc é: 35.65\n",
      "Obesidade\n"
     ]
    }
   ],
   "source": [
    "peso = float(input(\"Digite seu peso: \"))\n",
    "altura = float(input(\"\"\"\\nDigite sua altura, usando \".\", \n",
    "                     \\rExemplo: 1.70\n",
    "                     \\rAltura: \"\"\"))\n",
    "\n",
    "imc = peso / (altura ** 2)\n",
    "print(f\"\\nSeu imc é: {imc:,.2f}\")\n",
    "\n",
    "if imc < 18.5:\n",
    "    print(\"Abaixo do peso\")\n",
    "elif imc >= 18.5 and imc <= 24.9:\n",
    "    print(\"Peso normal\")\n",
    "elif imc >= 25.0 and imc <= 29.9:\n",
    "    print(\"Sobrepeso\")\n",
    "elif imc >= 30.0 and imc <= 39.9:\n",
    "    print(\"Obesidade\")\n",
    "else:\n",
    "    print(\"Obesidade grave\")"
   ]
  }
 ],
 "metadata": {
  "kernelspec": {
   "display_name": "Python 3",
   "language": "python",
   "name": "python3"
  },
  "language_info": {
   "codemirror_mode": {
    "name": "ipython",
    "version": 3
   },
   "file_extension": ".py",
   "mimetype": "text/x-python",
   "name": "python",
   "nbconvert_exporter": "python",
   "pygments_lexer": "ipython3",
   "version": "3.12.1"
  }
 },
 "nbformat": 4,
 "nbformat_minor": 2
}
