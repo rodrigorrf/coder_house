{
 "cells": [
  {
   "cell_type": "markdown",
   "metadata": {},
   "source": [
    "# Aula 4\n",
    "## Fundamentos de programação III"
   ]
  },
  {
   "cell_type": "markdown",
   "metadata": {},
   "source": [
    "Exercicio 1"
   ]
  },
  {
   "cell_type": "code",
   "execution_count": 4,
   "metadata": {},
   "outputs": [
    {
     "data": {
      "text/plain": [
       "True"
      ]
     },
     "execution_count": 4,
     "metadata": {},
     "output_type": "execute_result"
    }
   ],
   "source": [
    "multiplo_dez = lambda x: x % 10 == 0\n",
    "multiplo_dez(50)"
   ]
  },
  {
   "cell_type": "markdown",
   "metadata": {},
   "source": [
    "Exercicio 2"
   ]
  },
  {
   "cell_type": "code",
   "execution_count": 3,
   "metadata": {},
   "outputs": [
    {
     "name": "stdout",
     "output_type": "stream",
     "text": [
      "1 1\n",
      "2 2\n",
      "6 3\n",
      "24 4\n",
      "120 5\n"
     ]
    },
    {
     "data": {
      "text/plain": [
       "120"
      ]
     },
     "execution_count": 3,
     "metadata": {},
     "output_type": "execute_result"
    }
   ],
   "source": [
    "def fatorial(num):\n",
    "    fatorial = 1\n",
    "\n",
    "    for i in  range(1, num + 1):\n",
    "        fatorial *= i \n",
    "        print(fatorial,i) \n",
    "\n",
    "    return fatorial\n",
    "\n",
    "fatorial(5)\n",
    "#num = int(input(\"Digite um numero maior que 0\"))\n",
    "#print(\"Fatorial de: \", num, \"é\", fatorial(num))"
   ]
  },
  {
   "cell_type": "markdown",
   "metadata": {},
   "source": [
    "Exercicio 3"
   ]
  },
  {
   "cell_type": "code",
   "execution_count": 5,
   "metadata": {},
   "outputs": [
    {
     "name": "stdout",
     "output_type": "stream",
     "text": [
      "['João', 'Maria', 'Ana', 'Ana']\n"
     ]
    }
   ],
   "source": [
    "def primeiro_nome(nomes):\n",
    "    list=nomes    \n",
    "    return list.split()[0]\n",
    "\n",
    "nome =['João Carlos', 'Maria Eduarda', 'Ana Rute', 'Ana Clara']\n",
    "primeiro_nome = list(map(primeiro_nome,nome))\n",
    "\n",
    "print(primeiro_nome)"
   ]
  },
  {
   "cell_type": "markdown",
   "metadata": {},
   "source": [
    "Exercicio 4"
   ]
  },
  {
   "cell_type": "code",
   "execution_count": 2,
   "metadata": {},
   "outputs": [
    {
     "name": "stdout",
     "output_type": "stream",
     "text": [
      "Thursday\n"
     ]
    }
   ],
   "source": [
    "from datetime import datetime\n",
    "\n",
    "def dia_da_semana(data):\n",
    "     # converte a string para datetime\n",
    "    data = datetime.strptime(data, '%d/%m/%Y')\n",
    "    # formata a data para obter o nome do dia da semana\n",
    "    nome_dia_da_semana=data.strftime('%A')\n",
    "\n",
    "    return nome_dia_da_semana\n",
    "\n",
    "# exemplo de uso da função\n",
    "data = \"22/02/2024\"\n",
    "print(dia_da_semana(data))"
   ]
  }
 ],
 "metadata": {
  "kernelspec": {
   "display_name": "Python 3",
   "language": "python",
   "name": "python3"
  },
  "language_info": {
   "codemirror_mode": {
    "name": "ipython",
    "version": 3
   },
   "file_extension": ".py",
   "mimetype": "text/x-python",
   "name": "python",
   "nbconvert_exporter": "python",
   "pygments_lexer": "ipython3",
   "version": "3.12.1"
  }
 },
 "nbformat": 4,
 "nbformat_minor": 2
}
