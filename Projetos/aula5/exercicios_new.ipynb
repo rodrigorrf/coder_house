{
 "cells": [
  {
   "cell_type": "code",
   "execution_count": 4,
   "metadata": {},
   "outputs": [
    {
     "name": "stdout",
     "output_type": "stream",
     "text": [
      "Área: 4\n",
      "Perímetro: 8\n"
     ]
    }
   ],
   "source": [
    "class Retangulo:\n",
    "    def __init__(self, base, altura):\n",
    "        self.base = base\n",
    "        self.altura = altura\n",
    "\n",
    "    def area(self):\n",
    "       return self.base * self.altura\n",
    "\n",
    "    def perimetro(self):\n",
    "        return 2 * (self.base + self.altura)\n",
    "\n",
    "retangulo = Retangulo(2,2)\n",
    "\n",
    "area1 = retangulo.area()\n",
    "perimetro1 = retangulo.perimetro()\n",
    "\n",
    "print(f\"Área: {area1}\")\n",
    "print(f\"Perímetro: {perimetro1}\")"
   ]
  },
  {
   "cell_type": "code",
   "execution_count": 6,
   "metadata": {},
   "outputs": [],
   "source": [
    "import geometria as ge"
   ]
  },
  {
   "cell_type": "code",
   "execution_count": 7,
   "metadata": {},
   "outputs": [
    {
     "name": "stdout",
     "output_type": "stream",
     "text": [
      "Área: 15\n",
      "Perímetro: 16\n"
     ]
    }
   ],
   "source": [
    "\n",
    "\n",
    "# Instanciando a classe Retangulo com base = 5 e altura = 3\n",
    "retangulo1 = ge.Retangulo(5, 3)\n",
    "\n",
    "area1 = retangulo1.area()\n",
    "perimetro1 = retangulo1.perimetro()\n",
    "\n",
    "print(f\"Área: {area1}\")\n",
    "print(f\"Perímetro: {perimetro1}\")"
   ]
  },
  {
   "cell_type": "code",
   "execution_count": 12,
   "metadata": {},
   "outputs": [
    {
     "name": "stdout",
     "output_type": "stream",
     "text": [
      "Rodrigo\n",
      "Saldo: 20\n",
      "Saldo: 2\n",
      "Saldo: 1\n"
     ]
    }
   ],
   "source": [
    "class Conta:\n",
    "    def __init__(self, saldo, titular):\n",
    "        self.saldo = saldo\n",
    "        self.titular = titular\n",
    "\n",
    "    def depositar(self, depositar):\n",
    "        self.saldo += depositar\n",
    "        print(f\"Saldo: {self.saldo}\")\n",
    "\n",
    "    def sacar(self, saque):\n",
    "        if self.saldo < saque:\n",
    "            print(\"Saldo insuficiente\")\n",
    "        else:\n",
    "            self.saldo -= saque\n",
    "            print(f\"Saldo: {self.saldo}\")\n",
    "\n",
    "pessoa = Conta(10,\"Rodrigo\")\n",
    "print(pessoa.titular)\n",
    "\n",
    "pessoa.depositar(10)\n",
    "pessoa.sacar(18)\n",
    "pessoa.sacar(1)"
   ]
  }
 ],
 "metadata": {
  "kernelspec": {
   "display_name": "Python 3",
   "language": "python",
   "name": "python3"
  },
  "language_info": {
   "codemirror_mode": {
    "name": "ipython",
    "version": 3
   },
   "file_extension": ".py",
   "mimetype": "text/x-python",
   "name": "python",
   "nbconvert_exporter": "python",
   "pygments_lexer": "ipython3",
   "version": "3.12.1"
  }
 },
 "nbformat": 4,
 "nbformat_minor": 2
}
