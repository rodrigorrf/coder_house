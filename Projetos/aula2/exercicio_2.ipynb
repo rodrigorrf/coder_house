{
 "cells": [
  {
   "cell_type": "code",
   "execution_count": 30,
   "metadata": {},
   "outputs": [
    {
     "name": "stdout",
     "output_type": "stream",
     "text": [
      "{'abacaxi', 'uva', 'banana', 'mamao', 'melao', 'maracuja'}\n"
     ]
    }
   ],
   "source": [
    "list = ['abacaxi', 'banana', 'maracuja', 'uva', 'melao']\n",
    "fruta = input(\"Digite uma fruta: \")\n",
    "\n",
    "\n",
    "\n",
    "#for i in range(len(list)):\n",
    "#    print(list[i])\n",
    "#    if list[i] == fruta:\n",
    "#        print(\"Fruta está na lista. \\n\" , \"\\rIndice da fruta na lista:\" , i)\n",
    "\n",
    "for tmp in list:\n",
    "    print(tmp)\n",
    "    if tmp == fruta:\n",
    "        print(\"Fruta está na lista. \\n\")\n",
    "\n"
   ]
  }
 ],
 "metadata": {
  "kernelspec": {
   "display_name": "Python 3",
   "language": "python",
   "name": "python3"
  },
  "language_info": {
   "codemirror_mode": {
    "name": "ipython",
    "version": 3
   },
   "file_extension": ".py",
   "mimetype": "text/x-python",
   "name": "python",
   "nbconvert_exporter": "python",
   "pygments_lexer": "ipython3",
   "version": "3.12.1"
  }
 },
 "nbformat": 4,
 "nbformat_minor": 2
}
